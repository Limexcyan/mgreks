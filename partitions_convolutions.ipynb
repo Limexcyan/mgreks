{
 "cells": [
  {
   "metadata": {
    "ExecuteTime": {
     "end_time": "2025-08-03T10:00:46.068203Z",
     "start_time": "2025-08-03T10:00:45.995631Z"
    }
   },
   "cell_type": "code",
   "source": "from utils import *",
   "id": "dddd941edf8faca3",
   "outputs": [
    {
     "ename": "IndentationError",
     "evalue": "expected an indented block after 'if' statement on line 31 (utils.py, line 34)",
     "output_type": "error",
     "traceback": [
      "Traceback \u001B[36m(most recent call last)\u001B[39m:\n",
      "  File \u001B[92m~\\PycharmProjects\\mgreks\\.venv\\Lib\\site-packages\\IPython\\core\\interactiveshell.py:3699\u001B[39m in \u001B[95mrun_code\u001B[39m\n    exec(code_obj, self.user_global_ns, self.user_ns)\n",
      "\u001B[36m  \u001B[39m\u001B[36mCell\u001B[39m\u001B[36m \u001B[39m\u001B[32mIn[3]\u001B[39m\u001B[32m, line 1\u001B[39m\n\u001B[31m    \u001B[39m\u001B[31mfrom utils import *\u001B[39m\n",
      "  \u001B[36mFile \u001B[39m\u001B[32m~\\PycharmProjects\\mgreks\\utils.py:34\u001B[39m\n\u001B[31m    \u001B[39m\u001B[31mdef partitions(given_set):\u001B[39m\n                              ^\n\u001B[31mIndentationError\u001B[39m\u001B[31m:\u001B[39m expected an indented block after 'if' statement on line 31\n"
     ]
    }
   ],
   "execution_count": 3
  },
  {
   "metadata": {
    "ExecuteTime": {
     "end_time": "2025-08-03T10:00:22.410504Z",
     "start_time": "2025-08-03T10:00:22.388176Z"
    }
   },
   "cell_type": "code",
   "outputs": [
    {
     "name": "stdout",
     "output_type": "stream",
     "text": [
      "True\n"
     ]
    }
   ],
   "execution_count": 2,
   "source": [
    "def refinement_interval(partition_pair, set_of_partitions_pairs):\n",
    "    part_one, part_two = partition_pair\n",
    "    return [\n",
    "        tau for tau in set_of_partitions_pairs\n",
    "        if is_refinement(part_one, tau) and is_refinement(tau, part_two)\n",
    "    ]\n",
    "\n",
    "def part_convolution(f, g, partition_pair, set_of_partitions_pairs):\n",
    "    part_one, part_two = partition_pair\n",
    "    interval = refinement_interval((part_one, part_two), set_of_partitions_pairs)\n",
    "    return sum([f(part_one, tau) * g(tau, part_two) for tau in interval])\n",
    "\n",
    "# Example test\n",
    "pi = [{1, 2, 3}]\n",
    "sigma = [{1, 2}, {3}]\n",
    "print(is_refinement(sigma, pi))"
   ],
   "id": "e5edf2e12724bd4e"
  },
  {
   "metadata": {
    "ExecuteTime": {
     "end_time": "2025-08-01T13:25:15.779223Z",
     "start_time": "2025-08-01T13:25:15.769979Z"
    }
   },
   "cell_type": "code",
   "source": [
    "def is_refinement(pi, sigma):\n",
    "    for block_pi in pi:\n",
    "        if not any(block_pi <= block_sigma for block_sigma in sigma):\n",
    "            return False\n",
    "    return True\n",
    "\n",
    "def refinement_interval(partition_pair, set_of_partitions_pairs):\n",
    "    part_one, part_two = partition_pair\n",
    "    return [\n",
    "        tau for tau in set_of_partitions_pairs\n",
    "        if is_refinement(part_one, tau) and is_refinement(tau, part_two)\n",
    "    ]\n",
    "\n",
    "def set_of_partitions_pairs(set_of_partitions):\n",
    "    pairs = []\n",
    "    for partition_one in set_of_partitions:\n",
    "        for partition_two in set_of_partitions:\n",
    "            if is_refinement(partition_one, partition_two):\n",
    "                pairs.append((partition_one, partition_two))\n",
    "\n",
    "def part_convolution(f, g, partition_pair, set_of_partitions_pairs):\n",
    "    part_one, part_two = partition_pair\n",
    "    interval = refinement_interval((part_one, part_two), set_of_partitions_pairs)\n",
    "    print([f(part_one, tau) * g(tau, part_two) for tau in interval])\n",
    "    return sum([f(part_one, tau) * g(tau, part_two) for tau in interval])\n",
    "\n",
    "\n",
    "def f(pi, sigma):\n",
    "    return 1 if is_refinement(pi, sigma) else 0\n",
    "\n",
    "def g(pi, sigma):\n",
    "    return len(sigma)\n",
    "\n",
    "def delta_function(pi, sigma):\n",
    "    return 1 if is_refinement(pi, sigma) else 0\n",
    "\n",
    "def zeta_function(pi, sigma):\n",
    "    return 1\n",
    "\n",
    "partitions = [\n",
    "    [{1}, {2}, {3}],\n",
    "    [{1, 2}, {3}],\n",
    "    [{1, 3}, {2}],\n",
    "    [{2, 3}, {1}],\n",
    "    [{1, 2, 3}],\n",
    "]\n",
    "\n",
    "for pi in partitions:\n",
    "    for sigma in partitions:\n",
    "        result = part_convolution(delta_function, g, (pi, sigma), partitions)\n",
    "        print(f\"part_convolution(f, g, ({pi}, {sigma})) = {result}\")\n"
   ],
   "id": "2a65f765bc5ead8e",
   "outputs": [
    {
     "name": "stdout",
     "output_type": "stream",
     "text": [
      "[3]\n",
      "part_convolution(f, g, ([{1}, {2}, {3}], [{1}, {2}, {3}])) = 3\n",
      "[2, 2]\n",
      "part_convolution(f, g, ([{1}, {2}, {3}], [{1, 2}, {3}])) = 4\n",
      "[2, 2]\n",
      "part_convolution(f, g, ([{1}, {2}, {3}], [{1, 3}, {2}])) = 4\n",
      "[2, 2]\n",
      "part_convolution(f, g, ([{1}, {2}, {3}], [{2, 3}, {1}])) = 4\n",
      "[1, 1, 1, 1, 1]\n",
      "part_convolution(f, g, ([{1}, {2}, {3}], [{1, 2, 3}])) = 5\n",
      "[]\n",
      "part_convolution(f, g, ([{1, 2}, {3}], [{1}, {2}, {3}])) = 0\n",
      "[2]\n",
      "part_convolution(f, g, ([{1, 2}, {3}], [{1, 2}, {3}])) = 2\n",
      "[]\n",
      "part_convolution(f, g, ([{1, 2}, {3}], [{1, 3}, {2}])) = 0\n",
      "[]\n",
      "part_convolution(f, g, ([{1, 2}, {3}], [{2, 3}, {1}])) = 0\n",
      "[1, 1]\n",
      "part_convolution(f, g, ([{1, 2}, {3}], [{1, 2, 3}])) = 2\n",
      "[]\n",
      "part_convolution(f, g, ([{1, 3}, {2}], [{1}, {2}, {3}])) = 0\n",
      "[]\n",
      "part_convolution(f, g, ([{1, 3}, {2}], [{1, 2}, {3}])) = 0\n",
      "[2]\n",
      "part_convolution(f, g, ([{1, 3}, {2}], [{1, 3}, {2}])) = 2\n",
      "[]\n",
      "part_convolution(f, g, ([{1, 3}, {2}], [{2, 3}, {1}])) = 0\n",
      "[1, 1]\n",
      "part_convolution(f, g, ([{1, 3}, {2}], [{1, 2, 3}])) = 2\n",
      "[]\n",
      "part_convolution(f, g, ([{2, 3}, {1}], [{1}, {2}, {3}])) = 0\n",
      "[]\n",
      "part_convolution(f, g, ([{2, 3}, {1}], [{1, 2}, {3}])) = 0\n",
      "[]\n",
      "part_convolution(f, g, ([{2, 3}, {1}], [{1, 3}, {2}])) = 0\n",
      "[2]\n",
      "part_convolution(f, g, ([{2, 3}, {1}], [{2, 3}, {1}])) = 2\n",
      "[1, 1]\n",
      "part_convolution(f, g, ([{2, 3}, {1}], [{1, 2, 3}])) = 2\n",
      "[]\n",
      "part_convolution(f, g, ([{1, 2, 3}], [{1}, {2}, {3}])) = 0\n",
      "[]\n",
      "part_convolution(f, g, ([{1, 2, 3}], [{1, 2}, {3}])) = 0\n",
      "[]\n",
      "part_convolution(f, g, ([{1, 2, 3}], [{1, 3}, {2}])) = 0\n",
      "[]\n",
      "part_convolution(f, g, ([{1, 2, 3}], [{2, 3}, {1}])) = 0\n",
      "[1]\n",
      "part_convolution(f, g, ([{1, 2, 3}], [{1, 2, 3}])) = 1\n"
     ]
    }
   ],
   "execution_count": 30
  },
  {
   "metadata": {},
   "cell_type": "code",
   "outputs": [],
   "execution_count": null,
   "source": "",
   "id": "1cd5913126cf5421"
  }
 ],
 "metadata": {
  "kernelspec": {
   "display_name": "Python 3",
   "language": "python",
   "name": "python3"
  },
  "language_info": {
   "codemirror_mode": {
    "name": "ipython",
    "version": 2
   },
   "file_extension": ".py",
   "mimetype": "text/x-python",
   "name": "python",
   "nbconvert_exporter": "python",
   "pygments_lexer": "ipython2",
   "version": "2.7.6"
  }
 },
 "nbformat": 4,
 "nbformat_minor": 5
}
